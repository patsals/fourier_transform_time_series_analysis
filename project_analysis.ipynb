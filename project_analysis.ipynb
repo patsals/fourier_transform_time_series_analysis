{
 "cells": [
  {
   "cell_type": "code",
   "execution_count": null,
   "metadata": {},
   "outputs": [],
   "source": [
    "import pandas as pd\n",
    "import numpy as np\n",
    "\n",
    "import matplotlib.pyplot as plt\n",
    "import plotly.express as px\n",
    "import plotly.subplots as sp\n",
    "import plotly.graph_objs as go"
   ]
  },
  {
   "cell_type": "code",
   "execution_count": null,
   "metadata": {},
   "outputs": [],
   "source": [
    "# dataset imported from kaggle at: https://www.kaggle.com/datasets/uciml/electric-power-consumption-data-set?resource=download\n",
    "file_path = 'data/sampled_household_power_consumption.csv'\n",
    "\n",
    "df = pd.read_csv(file_path).iloc[:, [-1,1,2,3,4,5,6,7]]\n",
    "print(df.shape)\n",
    "df.head()"
   ]
  },
  {
   "cell_type": "markdown",
   "metadata": {},
   "source": [
    "## Applications"
   ]
  },
  {
   "cell_type": "markdown",
   "metadata": {},
   "source": [
    "#### Frequency Analysis"
   ]
  },
  {
   "cell_type": "code",
   "execution_count": null,
   "metadata": {},
   "outputs": [],
   "source": [
    "window = df[(df['Date_time'] >= '2010-10-15') &\n",
    "            (df['Date_time'] <= '2010-10-22')]\n",
    "\n",
    "x = window['Date_time']\n",
    "y = window['Voltage']\n",
    "n = len(x)\n",
    "fhat = np.fft.fft(y, n)\n",
    "PSD = fhat * np.conj(fhat) / n\n",
    "freq = (1/(n)) * np.arange(n)\n",
    "L = np.arange(1, n//2, dtype='int')\n",
    "\n",
    "\n",
    "indices = PSD > 800\n",
    "PSD_clean = PSD * indices\n",
    "fhat = indices * fhat\n",
    "ffilt = np.fft.ifft(fhat)\n",
    "\n",
    "fig = sp.make_subplots(rows=5, cols=1)\n",
    "fig.update_layout(height=800)\n",
    "line_chart1 = go.Scatter(x=x, y=y, mode='lines', name='Actual Voltage')\n",
    "fig.add_trace(line_chart1, row=1, col=1)\n",
    "    \n",
    "line_chart2 = go.Scatter(x=freq[L], y=np.real(PSD[L]), mode='lines', name='Power Spectrum')\n",
    "fig.add_trace(line_chart2, row=2, col=1)\n",
    "\n",
    "line_chart3 = go.Scatter(x=x, y=np.real(ffilt), mode='lines', name='Denoisified Voltage')\n",
    "fig.add_trace(line_chart3, row=3, col=1)\n",
    "\n",
    "fig.add_trace(line_chart1, row=4, col=1)\n",
    "fig.add_trace(line_chart3, row=4, col=1)\n",
    "\n",
    "window2 = df[(df['Date_time'] >= '2010-10-21') &\n",
    "            (df['Date_time'] <= '2010-10-28')]\n",
    "line_chart4 = go.Scatter(x=window2['Date_time'], y=window2['Voltage'], mode='lines', name='Denoisified Voltage')\n",
    "fig.add_trace(line_chart4, row=5, col=1)\n",
    "line_chart5 = go.Scatter(x=window2['Date_time'], y=np.real(ffilt), mode='lines', name='Denoisified Voltage')\n",
    "fig.add_trace(line_chart5, row=5, col=1)\n",
    "\n",
    "\n",
    "\n",
    "#fig.update_layout(title_text=\"Voltage\", showlegend=False)\n",
    "fig.show()"
   ]
  },
  {
   "cell_type": "code",
   "execution_count": null,
   "metadata": {},
   "outputs": [],
   "source": []
  }
 ],
 "metadata": {
  "kernelspec": {
   "display_name": "Python 3",
   "language": "python",
   "name": "python3"
  },
  "language_info": {
   "codemirror_mode": {
    "name": "ipython",
    "version": 3
   },
   "file_extension": ".py",
   "mimetype": "text/x-python",
   "name": "python",
   "nbconvert_exporter": "python",
   "pygments_lexer": "ipython3",
   "version": "3.12.1"
  }
 },
 "nbformat": 4,
 "nbformat_minor": 2
}
