{
 "cells": [
  {
   "cell_type": "code",
   "execution_count": null,
   "metadata": {},
   "outputs": [],
   "source": [
    "import pandas as pd\n",
    "import numpy as np\n",
    "\n",
    "import matplotlib.pyplot as plt\n",
    "import plotly.express as px\n",
    "import plotly.subplots as sp\n",
    "import plotly.graph_objs as go"
   ]
  },
  {
   "cell_type": "code",
   "execution_count": null,
   "metadata": {},
   "outputs": [],
   "source": [
    "# dataset imported from kaggle at: https://www.kaggle.com/datasets/uciml/electric-power-consumption-data-set?resource=download\n",
    "file_path = 'data/CLEANED_2010_household_power_consumption.zip'\n",
    "\n",
    "df = pd.read_csv(file_path).iloc[:, 1:]\n",
    "df['Date_time'] = pd.to_datetime(df['Date_time'])\n",
    "print(df.shape)\n",
    "df.head()"
   ]
  },
  {
   "cell_type": "code",
   "execution_count": null,
   "metadata": {},
   "outputs": [],
   "source": [
    "df.info()"
   ]
  },
  {
   "cell_type": "code",
   "execution_count": null,
   "metadata": {},
   "outputs": [],
   "source": [
    "fig = sp.make_subplots(rows=12, cols=1)\n",
    "fig.update_layout(height=1000, width=1000)\n",
    "\n",
    "for i, month in enumerate(range(1,13)):\n",
    "    temp_df = df[(df['Date_time'].dt.month == month)].sort_values(by='Date_time')\n",
    "    line_chart = go.Scatter(x=temp_df['Date_time'], y=temp_df['Voltage'], mode='lines', name=month)\n",
    "    fig.add_trace(line_chart, row=i+1, col=1)\n",
    "    \n",
    "\n",
    "fig.update_layout(title_text=\"Voltage\", showlegend=False)\n",
    "fig.show()"
   ]
  },
  {
   "cell_type": "markdown",
   "metadata": {},
   "source": [
    "## Applications"
   ]
  },
  {
   "cell_type": "code",
   "execution_count": null,
   "metadata": {},
   "outputs": [],
   "source": [
    "# Generate time values from 0 to 2*pi with small intervals\n",
    "t = np.arange(0, 8 * np.pi, 0.1)\n",
    "\n",
    "# Calculate sine values for each time value\n",
    "y = 2*np.cos(t) + np.sin(3*t) + 3 * np.sin(2*t)\n",
    "\n",
    "n = len(t)\n",
    "fhat = np.fft.fft(y, n)\n",
    "PSD = fhat * np.conj(fhat) / n\n",
    "freq = (1/(n)) * np.arange(n)\n",
    "L = np.arange(1, n//2, dtype='int')\n",
    "\n",
    "indices = PSD > 500\n",
    "PSD_clean = PSD * indices\n",
    "fhat = indices * fhat\n",
    "ffilt = np.fft.ifft(fhat)\n",
    "\n",
    "# Plot the sine wave\n",
    "fig = sp.make_subplots(rows=5, cols=1)\n",
    "fig.update_layout(height=800)\n",
    "line_chart1 = go.Scatter(x=t, y=y, mode='lines', name='Actual Voltage')\n",
    "fig.add_trace(line_chart1, row=1, col=1)\n",
    "    \n",
    "line_chart2 = go.Scatter(x=freq[L], y=np.real(PSD[L]), mode='lines', name='Power Spectrum')\n",
    "#fig.update_xaxes(tickvals=freq[L], row=2, col=1)\n",
    "fig.add_trace(line_chart2, row=2, col=1)\n",
    "\n",
    "# line_chart3 = go.Scatter(x=x, y=np.real(ffilt), mode='lines', name='Denoisified Voltage')\n",
    "# fig.add_trace(line_chart3, row=3, col=1)\n",
    "# fig.add_trace(line_chart1, row=4, col=1)\n",
    "\n",
    "# window2 = df[(df['Date_time'] >= window2[0]) &\n",
    "#             (df['Date_time'] <= window2[1])]\n",
    "# line_chart4 = go.Scatter(x=window2['Date_time'], y=window2['Voltage'], mode='lines', name='Denoisified Voltage')\n",
    "# fig.add_trace(line_chart4, row=5, col=1)\n",
    "# line_chart5 = go.Scatter(x=window2['Date_time'], y=np.real(ffilt), mode='lines', name='Denoisified Voltage')\n",
    "# fig.add_trace(line_chart5, row=5, col=1)\n",
    "\n",
    "\n",
    "\n",
    "#fig.update_layout(title_text=\"Voltage\", showlegend=False)\n",
    "fig.show()"
   ]
  },
  {
   "cell_type": "code",
   "execution_count": null,
   "metadata": {},
   "outputs": [],
   "source": []
  },
  {
   "cell_type": "markdown",
   "metadata": {},
   "source": [
    "#### Frequency Analysis"
   ]
  },
  {
   "cell_type": "code",
   "execution_count": null,
   "metadata": {},
   "outputs": [],
   "source": [
    "#temp_df = df[(df['Date_time'].dt.year == 2009) & (df['Date_time'].dt.month == 9)].sort_values(by='Date_time')\n",
    "window1 = ('2010-02-05', '2010-02-12')\n",
    "window2 = ('2010-02-13', '2010-02-20')\n",
    "\n",
    "window = df[(df['Date_time'] >= window1[0]) &\n",
    "            (df['Date_time'] <= window1[1])].sort_values(by='Date_time')\n",
    "\n",
    "x = window['Date_time']\n",
    "y = window['Voltage']\n",
    "n = len(x)\n",
    "fhat = np.fft.fft(y, n)\n",
    "PSD = fhat * np.conj(fhat) / n\n",
    "freq = (1/(n)) * np.arange(n)\n",
    "L = np.arange(1, n//2, dtype='int')\n",
    "\n",
    "\n",
    "indices = PSD > 800\n",
    "PSD_clean = PSD * indices\n",
    "fhat = indices * fhat\n",
    "ffilt = np.fft.ifft(fhat)\n",
    "\n",
    "fig = sp.make_subplots(rows=5, cols=1)\n",
    "fig.update_layout(height=800)\n",
    "line_chart1 = go.Scatter(x=x, y=y, mode='lines', name='Actual Voltage')\n",
    "fig.add_trace(line_chart1, row=1, col=1)\n",
    "    \n",
    "line_chart2 = go.Scatter(x=freq[L], y=np.real(PSD[L]), mode='lines', name='Power Spectrum')\n",
    "fig.add_trace(line_chart2, row=2, col=1)\n",
    "\n",
    "line_chart3 = go.Scatter(x=x, y=np.real(ffilt), mode='lines', name='Denoisified Voltage')\n",
    "fig.add_trace(line_chart3, row=3, col=1)\n",
    "\n",
    "fig.add_trace(line_chart1, row=4, col=1)\n",
    "fig.add_trace(line_chart3, row=4, col=1)\n",
    "\n",
    "window2 = df[(df['Date_time'] >= window2[0]) &\n",
    "            (df['Date_time'] <= window2[1])]\n",
    "line_chart4 = go.Scatter(x=window2['Date_time'], y=window2['Voltage'], mode='lines', name='Denoisified Voltage')\n",
    "fig.add_trace(line_chart4, row=5, col=1)\n",
    "line_chart5 = go.Scatter(x=window2['Date_time'], y=np.real(ffilt), mode='lines', name='Denoisified Voltage')\n",
    "fig.add_trace(line_chart5, row=5, col=1)\n",
    "\n",
    "\n",
    "\n",
    "#fig.update_layout(title_text=\"Voltage\", showlegend=False)\n",
    "fig.show()"
   ]
  },
  {
   "cell_type": "code",
   "execution_count": null,
   "metadata": {},
   "outputs": [],
   "source": [
    "temp_window = window.sample(1024, random_state=42).sort_values(by='Date_time')\n"
   ]
  },
  {
   "cell_type": "code",
   "execution_count": null,
   "metadata": {},
   "outputs": [],
   "source": [
    "state = 1\n",
    "n_samples = 8192\n",
    "temp_window = window.sample(n_samples, random_state=state).sort_values(by='Date_time')\n",
    "\n",
    "window1 = ('2010-02-05', '2010-02-12')\n",
    "window2 = ('2010-02-13', '2010-02-20')\n",
    "\n",
    "x = temp_window['Date_time']\n",
    "y = temp_window['Voltage']\n",
    "n = len(x)\n",
    "fhat = np.fft.fft(y)\n",
    "PSD = fhat * np.conj(fhat) / n_samples\n",
    "np.real(PSD[:10])"
   ]
  },
  {
   "cell_type": "code",
   "execution_count": null,
   "metadata": {},
   "outputs": [],
   "source": [
    "np.real(PSD[:len(freq)//2])[-2]"
   ]
  },
  {
   "cell_type": "code",
   "execution_count": null,
   "metadata": {},
   "outputs": [],
   "source": [
    "\n",
    "freq = (1/(n)) * np.arange(n)\n",
    "\n",
    "indices = PSD > 800"
   ]
  },
  {
   "cell_type": "code",
   "execution_count": null,
   "metadata": {},
   "outputs": [],
   "source": [
    "fhat = indices * fhat\n",
    "fhat[:10]\n"
   ]
  },
  {
   "cell_type": "code",
   "execution_count": null,
   "metadata": {},
   "outputs": [],
   "source": [
    "ffilt = np.fft.ifft(fhat)\n",
    "np.real(np.real(ffilt))"
   ]
  },
  {
   "cell_type": "code",
   "execution_count": null,
   "metadata": {},
   "outputs": [],
   "source": [
    "\n",
    "fig = sp.make_subplots(rows=5, cols=1)\n",
    "fig.update_layout(height=800)\n",
    "line_chart1 = go.Scatter(x=x, y=y, mode='lines', name='Actual Voltage')\n",
    "fig.add_trace(line_chart1, row=1, col=1)\n",
    "    \n",
    "line_chart2 = go.Scatter(x=freq[:len(freq)//2], y=np.real(PSD[:len(freq)//2]), mode='lines', name='Power Spectrum')\n",
    "fig.add_trace(line_chart2, row=2, col=1)\n",
    "\n",
    "line_chart3 = go.Scatter(x=x, y=np.real(ffilt), mode='lines', name='Denoisified Voltage')\n",
    "fig.add_trace(line_chart3, row=3, col=1)\n",
    "\n",
    "fig.add_trace(line_chart1, row=4, col=1)\n",
    "fig.add_trace(line_chart3, row=4, col=1)\n",
    "\n",
    "window2 = df[(df['Date_time'] >= window2[0]) &\n",
    "            (df['Date_time'] <= window2[1])]\n",
    "\n",
    "temp_window2 = window2.sample(n_samples, random_state=state).sort_values(by='Date_time')\n",
    "line_chart4 = go.Scatter(x=temp_window2['Date_time'], y=temp_window2['Voltage'], mode='lines', name='Denoisified Voltage')\n",
    "fig.add_trace(line_chart4, row=5, col=1)\n",
    "line_chart5 = go.Scatter(x=temp_window2['Date_time'], y=np.real(ffilt), mode='lines', name='Denoisified Voltage')\n",
    "fig.add_trace(line_chart5, row=5, col=1)\n",
    "\n",
    "fig.show()"
   ]
  },
  {
   "cell_type": "code",
   "execution_count": null,
   "metadata": {},
   "outputs": [],
   "source": [
    "state = 1\n",
    "n_samples = 8192\n",
    "temp_window = window.sample(n_samples, random_state=state).sort_values(by='Date_time')\n",
    "\n",
    "window1 = ('2010-02-05', '2010-02-12')\n",
    "window2 = ('2010-02-13', '2010-02-20')\n",
    "\n",
    "x = temp_window['Date_time']\n",
    "y = temp_window['Voltage']\n",
    "n = len(x)\n",
    "fftresult = np.fft.fft(y)\n",
    "magnitudes = np.abs(fftresult)\n",
    "\n",
    "freq = (1/(n)) * np.arange(n)"
   ]
  },
  {
   "cell_type": "code",
   "execution_count": null,
   "metadata": {},
   "outputs": [],
   "source": [
    "\n",
    "magnitudes = np.abs(fftresult)\n",
    "magnitudes[0]/n"
   ]
  },
  {
   "cell_type": "code",
   "execution_count": null,
   "metadata": {},
   "outputs": [],
   "source": [
    "np.real(fftresult[0])"
   ]
  },
  {
   "cell_type": "code",
   "execution_count": null,
   "metadata": {},
   "outputs": [],
   "source": [
    "indices = PSD > 100\n",
    "# PSD_clean = PSD * indices\n",
    "fhat = indices * fhat\n",
    "ffilt = np.fft.ifft(fhat)\n",
    "\n",
    "fig = sp.make_subplots(rows=5, cols=1)\n",
    "fig.update_layout(height=800)\n",
    "line_chart1 = go.Scatter(x=x, y=y, mode='lines', name='Actual Voltage')\n",
    "fig.add_trace(line_chart1, row=1, col=1)\n",
    "    \n",
    "line_chart2 = go.Scatter(x=freq[:len(freq)//2], y=magnitudes[:len(freq)//2], mode='lines', name='Power Spectrum')\n",
    "fig.add_trace(line_chart2, row=2, col=1)\n",
    "\n",
    "line_chart3 = go.Scatter(x=x, y=np.real(fhat), mode='lines', name='Denoisified Voltage')\n",
    "fig.add_trace(line_chart3, row=3, col=1)\n",
    "\n",
    "# fig.add_trace(line_chart1, row=4, col=1)\n",
    "# fig.add_trace(line_chart3, row=4, col=1)\n",
    "\n",
    "# window2 = df[(df['Date_time'] >= window2[0]) &\n",
    "#             (df['Date_time'] <= window2[1])]\n",
    "\n",
    "# temp_window2 = window2.sample(n_samples, random_state=state).sort_values(by='Date_time')\n",
    "# line_chart4 = go.Scatter(x=temp_window2['Date_time'], y=temp_window2['Voltage'], mode='lines', name='Denoisified Voltage')\n",
    "# fig.add_trace(line_chart4, row=5, col=1)\n",
    "# line_chart5 = go.Scatter(x=temp_window2['Date_time'], y=np.real(ffilt), mode='lines', name='Denoisified Voltage')\n",
    "# fig.add_trace(line_chart5, row=5, col=1)\n",
    "\n",
    "fig.show()"
   ]
  },
  {
   "cell_type": "code",
   "execution_count": null,
   "metadata": {},
   "outputs": [],
   "source": [
    "temp_window[['Date_time', 'Voltage']].to_json('data/electric_data_window.json', orient='records')\n",
    "temp_window2[['Date_time', 'Voltage']].to_json('data/electric_data_next_window.json', orient='records')"
   ]
  }
 ],
 "metadata": {
  "kernelspec": {
   "display_name": "Python 3",
   "language": "python",
   "name": "python3"
  },
  "language_info": {
   "codemirror_mode": {
    "name": "ipython",
    "version": 3
   },
   "file_extension": ".py",
   "mimetype": "text/x-python",
   "name": "python",
   "nbconvert_exporter": "python",
   "pygments_lexer": "ipython3",
   "version": "3.12.1"
  }
 },
 "nbformat": 4,
 "nbformat_minor": 2
}
