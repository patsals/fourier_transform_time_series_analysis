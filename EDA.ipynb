{
 "cells": [
  {
   "cell_type": "markdown",
   "metadata": {},
   "source": [
    "# Preliminary Exploratory Data Analysis"
   ]
  },
  {
   "cell_type": "code",
   "execution_count": 16,
   "metadata": {},
   "outputs": [],
   "source": [
    "import pandas as pd\n",
    "import numpy as np\n",
    "\n",
    "import matplotlib.pyplot as plt\n",
    "import plotly.express as px\n",
    "import plotly.subplots as sp\n",
    "import plotly.graph_objs as go"
   ]
  },
  {
   "cell_type": "code",
   "execution_count": 17,
   "metadata": {},
   "outputs": [
    {
     "name": "stderr",
     "output_type": "stream",
     "text": [
      "C:\\Users\\prsal\\AppData\\Local\\Temp\\ipykernel_28568\\964754665.py:4: DtypeWarning:\n",
      "\n",
      "Columns (2,3,4,5,6,7) have mixed types. Specify dtype option on import or set low_memory=False.\n",
      "\n"
     ]
    },
    {
     "name": "stdout",
     "output_type": "stream",
     "text": [
      "(2075259, 9)\n"
     ]
    },
    {
     "data": {
      "text/html": [
       "<div>\n",
       "<style scoped>\n",
       "    .dataframe tbody tr th:only-of-type {\n",
       "        vertical-align: middle;\n",
       "    }\n",
       "\n",
       "    .dataframe tbody tr th {\n",
       "        vertical-align: top;\n",
       "    }\n",
       "\n",
       "    .dataframe thead th {\n",
       "        text-align: right;\n",
       "    }\n",
       "</style>\n",
       "<table border=\"1\" class=\"dataframe\">\n",
       "  <thead>\n",
       "    <tr style=\"text-align: right;\">\n",
       "      <th></th>\n",
       "      <th>Date</th>\n",
       "      <th>Time</th>\n",
       "      <th>Global_active_power</th>\n",
       "      <th>Global_reactive_power</th>\n",
       "      <th>Voltage</th>\n",
       "      <th>Global_intensity</th>\n",
       "      <th>Sub_metering_1</th>\n",
       "      <th>Sub_metering_2</th>\n",
       "      <th>Sub_metering_3</th>\n",
       "    </tr>\n",
       "  </thead>\n",
       "  <tbody>\n",
       "    <tr>\n",
       "      <th>21996</th>\n",
       "      <td>1/1/2007</td>\n",
       "      <td>00:00:00</td>\n",
       "      <td>2.580</td>\n",
       "      <td>0.136</td>\n",
       "      <td>241.970</td>\n",
       "      <td>10.600</td>\n",
       "      <td>0.000</td>\n",
       "      <td>0.000</td>\n",
       "      <td>0.0</td>\n",
       "    </tr>\n",
       "    <tr>\n",
       "      <th>21997</th>\n",
       "      <td>1/1/2007</td>\n",
       "      <td>00:01:00</td>\n",
       "      <td>2.552</td>\n",
       "      <td>0.100</td>\n",
       "      <td>241.750</td>\n",
       "      <td>10.400</td>\n",
       "      <td>0.000</td>\n",
       "      <td>0.000</td>\n",
       "      <td>0.0</td>\n",
       "    </tr>\n",
       "    <tr>\n",
       "      <th>21998</th>\n",
       "      <td>1/1/2007</td>\n",
       "      <td>00:02:00</td>\n",
       "      <td>2.550</td>\n",
       "      <td>0.100</td>\n",
       "      <td>241.640</td>\n",
       "      <td>10.400</td>\n",
       "      <td>0.000</td>\n",
       "      <td>0.000</td>\n",
       "      <td>0.0</td>\n",
       "    </tr>\n",
       "    <tr>\n",
       "      <th>21999</th>\n",
       "      <td>1/1/2007</td>\n",
       "      <td>00:03:00</td>\n",
       "      <td>2.550</td>\n",
       "      <td>0.100</td>\n",
       "      <td>241.710</td>\n",
       "      <td>10.400</td>\n",
       "      <td>0.000</td>\n",
       "      <td>0.000</td>\n",
       "      <td>0.0</td>\n",
       "    </tr>\n",
       "    <tr>\n",
       "      <th>22000</th>\n",
       "      <td>1/1/2007</td>\n",
       "      <td>00:04:00</td>\n",
       "      <td>2.554</td>\n",
       "      <td>0.100</td>\n",
       "      <td>241.980</td>\n",
       "      <td>10.400</td>\n",
       "      <td>0.000</td>\n",
       "      <td>0.000</td>\n",
       "      <td>0.0</td>\n",
       "    </tr>\n",
       "  </tbody>\n",
       "</table>\n",
       "</div>"
      ],
      "text/plain": [
       "           Date      Time Global_active_power Global_reactive_power  Voltage  \\\n",
       "21996  1/1/2007  00:00:00               2.580                 0.136  241.970   \n",
       "21997  1/1/2007  00:01:00               2.552                 0.100  241.750   \n",
       "21998  1/1/2007  00:02:00               2.550                 0.100  241.640   \n",
       "21999  1/1/2007  00:03:00               2.550                 0.100  241.710   \n",
       "22000  1/1/2007  00:04:00               2.554                 0.100  241.980   \n",
       "\n",
       "      Global_intensity Sub_metering_1 Sub_metering_2  Sub_metering_3  \n",
       "21996           10.600          0.000          0.000             0.0  \n",
       "21997           10.400          0.000          0.000             0.0  \n",
       "21998           10.400          0.000          0.000             0.0  \n",
       "21999           10.400          0.000          0.000             0.0  \n",
       "22000           10.400          0.000          0.000             0.0  "
      ]
     },
     "execution_count": 17,
     "metadata": {},
     "output_type": "execute_result"
    }
   ],
   "source": [
    "# dataset imported from kaggle at: https://www.kaggle.com/datasets/uciml/electric-power-consumption-data-set?resource=download\n",
    "file_path = 'data/household_power_consumption.zip'\n",
    "\n",
    "df = pd.read_csv(file_path, delimiter=';')\n",
    "df.sort_values(by=['Date', 'Time'], inplace=True)\n",
    "print(df.shape)\n",
    "df.head()"
   ]
  },
  {
   "cell_type": "markdown",
   "metadata": {},
   "source": [
    "## Part 1: Data Quality Checks"
   ]
  },
  {
   "cell_type": "markdown",
   "metadata": {},
   "source": [
    "#### Null/Missing Values"
   ]
  },
  {
   "cell_type": "code",
   "execution_count": null,
   "metadata": {},
   "outputs": [],
   "source": [
    "df[(df.eq('?').any(axis=1)) | (df.isna().any(axis=1))]"
   ]
  },
  {
   "cell_type": "code",
   "execution_count": null,
   "metadata": {},
   "outputs": [],
   "source": [
    "df.dropna(inplace=True)\n",
    "df = df[~df.apply(lambda row: row.eq('?').any(), axis =1)]"
   ]
  },
  {
   "cell_type": "markdown",
   "metadata": {},
   "source": [
    "#### Data Types"
   ]
  },
  {
   "cell_type": "code",
   "execution_count": null,
   "metadata": {},
   "outputs": [],
   "source": [
    "df.info()"
   ]
  },
  {
   "cell_type": "code",
   "execution_count": null,
   "metadata": {},
   "outputs": [],
   "source": [
    "df['Date_time'] = pd.to_datetime(df['Date'] + ' ' + df['Time'], format=\"%d/%m/%Y %H:%M:%S\")\n",
    "# df['Date'] = pd.to_datetime(df['Date'], format=\"%d/%m/%Y\")\n",
    "# df['Time'] = pd.to_datetime(df['Time'], format=\"%H:%M:%S\")\n",
    "df.drop(columns=['Date', 'Time'], inplace=True)\n",
    "\n",
    "for column in df.columns:\n",
    "    if column not in ('Date', 'Time', 'Date_time'):\n",
    "        print(column)\n",
    "        df[column] = df[column].astype(float)"
   ]
  },
  {
   "cell_type": "markdown",
   "metadata": {},
   "source": [
    "#### Duplicates"
   ]
  },
  {
   "cell_type": "code",
   "execution_count": null,
   "metadata": {},
   "outputs": [],
   "source": [
    "df[df.duplicated()]"
   ]
  },
  {
   "cell_type": "markdown",
   "metadata": {},
   "source": [
    "## Part 2: Identifying Data Characterstics"
   ]
  },
  {
   "cell_type": "code",
   "execution_count": null,
   "metadata": {},
   "outputs": [],
   "source": [
    "df.describe()"
   ]
  },
  {
   "cell_type": "code",
   "execution_count": null,
   "metadata": {},
   "outputs": [],
   "source": [
    "fig = sp.make_subplots(rows=len(df.columns[:-1]), cols=1, subplot_titles=df.columns)\n",
    "fig.update_layout(height=1000, width=800)\n",
    "\n",
    "for i, column in enumerate(df.columns[:-1]):\n",
    "    histogram = go.Histogram(x=df[column], name=column)\n",
    "    fig.add_trace(histogram, row=i+1, col=1)\n",
    "\n",
    "fig.update_layout(title_text=\"Distributions\", showlegend=False)\n",
    "fig.show()"
   ]
  },
  {
   "cell_type": "code",
   "execution_count": null,
   "metadata": {},
   "outputs": [],
   "source": [
    "temp  = df.assign(year=df['Date_time'].dt.year)\n",
    "temp = temp.groupby('year').count().iloc[:, 0]\n",
    "\n",
    "bar_chart = go.Figure(data=[go.Bar(x=temp.index, y=temp)])\n",
    "\n",
    "bar_chart.update_layout(title_text='Data Points Per Year', xaxis_title='Year', yaxis_title='Count')\n",
    "\n",
    "bar_chart.show()"
   ]
  },
  {
   "cell_type": "code",
   "execution_count": null,
   "metadata": {},
   "outputs": [],
   "source": [
    "\n",
    "fig = sp.make_subplots(rows=5, cols=1)\n",
    "fig.update_layout(height=1000, width=1000)\n",
    "\n",
    "for i, year in enumerate(range(2006, 2011)):\n",
    "    temp_df = df[df['Date_time'].dt.year == year].sort_values(by='Date_time')\n",
    "    line_chart = go.Scatter(x=temp_df['Date_time'], y=temp_df['Voltage'], mode='lines', name=year)\n",
    "    fig.add_trace(line_chart, row=i+1, col=1)\n",
    "    \n",
    "\n",
    "fig.update_layout(title_text=\"Voltage\", showlegend=False)\n",
    "fig.show()"
   ]
  },
  {
   "cell_type": "code",
   "execution_count": null,
   "metadata": {},
   "outputs": [],
   "source": [
    "fig = sp.make_subplots(rows=12, cols=1)\n",
    "fig.update_layout(height=1000, width=1000)\n",
    "\n",
    "for i, month in enumerate(range(1,13)):\n",
    "    temp_df = df[(df['Date_time'].dt.year == 2010) & (df['Date_time'].dt.month == month)].sort_values(by='Date_time')\n",
    "    line_chart = go.Scatter(x=temp_df['Date_time'], y=temp_df['Voltage'], mode='lines', name=month)\n",
    "    fig.add_trace(line_chart, row=i+1, col=1)\n",
    "    \n",
    "\n",
    "fig.update_layout(title_text=\"Voltage\", showlegend=False)\n",
    "fig.show()"
   ]
  },
  {
   "cell_type": "code",
   "execution_count": null,
   "metadata": {},
   "outputs": [],
   "source": [
    "temp_df = df[(df['Date_time'].dt.year == 2010) & (df['Date_time'].dt.month == 10)].sort_values(by='Date_time')\n",
    "temp_df\n"
   ]
  },
  {
   "cell_type": "code",
   "execution_count": null,
   "metadata": {},
   "outputs": [],
   "source": [
    "dt = 1 # sampled every 1 minute\n",
    "f = temp_df['Voltage'] # - temp_df['Voltage'].mean()\n",
    "n = len(temp_df)\n",
    "fhat = np.fft.fft(f, n)\n",
    "PSD = fhat * np.conj(fhat) / n\n",
    "freq = (1/(dt*n)) * np.arange(n)\n",
    "L = np.arange(1, n//2, dtype='int')\n",
    "\n",
    "fig = sp.make_subplots(rows=2, cols=1)\n",
    "line_chart = go.Scatter(x=temp_df['Date_time'], y=f, mode='lines', name='Actual Voltage')\n",
    "fig.add_trace(line_chart, row=1, col=1)\n",
    "    \n",
    "line_chart = go.Scatter(x=freq[L], y=np.real(PSD[L]), mode='lines', name='Power Spectrum')\n",
    "fig.add_trace(line_chart, row=2, col=1)\n",
    "\n",
    "#fig.update_layout(title_text=\"Voltage\", showlegend=False)\n",
    "#fig.show()"
   ]
  },
  {
   "cell_type": "code",
   "execution_count": null,
   "metadata": {},
   "outputs": [],
   "source": [
    "indices = PSD > 4000\n",
    "PSD_clean = PSD * indices\n",
    "fhat = indices * fhat\n",
    "ffilt = np.fft.ifft(fhat)\n",
    "\n",
    "fig = sp.make_subplots(rows=3, cols=1)\n",
    "fig.update_layout(height=800)\n",
    "line_chart = go.Scatter(x=temp_df['Date_time'], y=f, mode='lines', name='Actual Voltage')\n",
    "fig.add_trace(line_chart, row=1, col=1)\n",
    "    \n",
    "line_chart = go.Scatter(x=freq[L], y=np.real(PSD[L]), mode='lines', name='Power Spectrum')\n",
    "fig.add_trace(line_chart, row=2, col=1)\n",
    "\n",
    "line_chart = go.Scatter(x=temp_df['Date_time'], y=np.real(ffilt), mode='lines', name='Denoisified Voltage')\n",
    "fig.add_trace(line_chart, row=3, col=1)\n",
    "\n",
    "#fig.update_layout(title_text=\"Voltage\", showlegend=False)\n",
    "fig.show()"
   ]
  },
  {
   "cell_type": "code",
   "execution_count": null,
   "metadata": {},
   "outputs": [],
   "source": []
  },
  {
   "cell_type": "code",
   "execution_count": null,
   "metadata": {},
   "outputs": [],
   "source": []
  }
 ],
 "metadata": {
  "kernelspec": {
   "display_name": "Python 3",
   "language": "python",
   "name": "python3"
  },
  "language_info": {
   "codemirror_mode": {
    "name": "ipython",
    "version": 3
   },
   "file_extension": ".py",
   "mimetype": "text/x-python",
   "name": "python",
   "nbconvert_exporter": "python",
   "pygments_lexer": "ipython3",
   "version": "3.12.1"
  }
 },
 "nbformat": 4,
 "nbformat_minor": 2
}
